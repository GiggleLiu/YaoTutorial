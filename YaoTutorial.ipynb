{
 "cells": [
  {
   "cell_type": "markdown",
   "metadata": {
    "slideshow": {
     "slide_type": "slide"
    }
   },
   "source": [
    "# Variational Quantum Simulators"
   ]
  },
  {
   "attachments": {},
   "cell_type": "markdown",
   "metadata": {},
   "source": [
    "![image.png](images/fullstack.png)"
   ]
  },
  {
   "attachments": {},
   "cell_type": "markdown",
   "metadata": {},
   "source": [
    "![image.png](images/zygote-yao.png)"
   ]
  },
  {
   "attachments": {},
   "cell_type": "markdown",
   "metadata": {},
   "source": [
    "![image.png](images/mlqc_review.png)"
   ]
  },
  {
   "cell_type": "code",
   "execution_count": null,
   "metadata": {},
   "outputs": [],
   "source": []
  },
  {
   "attachments": {},
   "cell_type": "markdown",
   "metadata": {},
   "source": [
    "![image.png](images/projectq_github.png)"
   ]
  },
  {
   "cell_type": "markdown",
   "metadata": {},
   "source": [
    "# Variational Quantum Softwares"
   ]
  },
  {
   "attachments": {},
   "cell_type": "markdown",
   "metadata": {
    "slideshow": {
     "slide_type": "slide"
    }
   },
   "source": [
    "![image.png](images/pennylane_github.png)"
   ]
  },
  {
   "attachments": {},
   "cell_type": "markdown",
   "metadata": {
    "slideshow": {
     "slide_type": "slide"
    }
   },
   "source": [
    "![image.png](images/qulacs_github.png)"
   ]
  },
  {
   "attachments": {},
   "cell_type": "markdown",
   "metadata": {},
   "source": [
    "![image.png](images/quest_github.png)"
   ]
  },
  {
   "cell_type": "markdown",
   "metadata": {},
   "source": [
    "## Open source software in quantum computing\n",
    "https://arxiv.org/abs/1812.09167\n",
    "## Making Quantum Computing Open: Lessons from Open-Source Projects\n",
    "https://arxiv.org/abs/1902.00991"
   ]
  },
  {
   "cell_type": "markdown",
   "metadata": {
    "slideshow": {
     "slide_type": "slide"
    }
   },
   "source": [
    "# A benchmark\n",
    "![benchmark](images/qulacs_benchmark.png)"
   ]
  },
  {
   "cell_type": "markdown",
   "metadata": {
    "slideshow": {
     "slide_type": "slide"
    }
   },
   "source": [
    "# Yao framework\n",
    "![yaoarch](images/yaoarch.png)"
   ]
  },
  {
   "cell_type": "markdown",
   "metadata": {
    "slideshow": {
     "slide_type": "slide"
    }
   },
   "source": [
    "# QBIR Example: Dagger"
   ]
  },
  {
   "cell_type": "code",
   "execution_count": null,
   "metadata": {},
   "outputs": [],
   "source": [
    "Dagger"
   ]
  },
  {
   "cell_type": "code",
   "execution_count": 5,
   "metadata": {},
   "outputs": [],
   "source": [
    "using Yao, BitBasis"
   ]
  },
  {
   "cell_type": "code",
   "execution_count": 6,
   "metadata": {},
   "outputs": [],
   "source": [
    "# time evolution"
   ]
  },
  {
   "cell_type": "code",
   "execution_count": 12,
   "metadata": {},
   "outputs": [
    {
     "data": {
      "text/plain": [
       "8-element Array{Complex{Float64},1}:\n",
       " 0.0 + 0.0im\n",
       " 0.0 + 0.0im\n",
       " 1.0 + 0.0im\n",
       " 0.0 + 0.0im\n",
       " 0.0 + 0.0im\n",
       " 0.0 + 0.0im\n",
       " 0.0 + 0.0im\n",
       " 0.0 + 0.0im"
      ]
     },
     "execution_count": 12,
     "metadata": {},
     "output_type": "execute_result"
    }
   ],
   "source": [
    "reg = product_state(bit\"010\")\n",
    "statevec(reg)"
   ]
  },
  {
   "cell_type": "code",
   "execution_count": 16,
   "metadata": {},
   "outputs": [
    {
     "data": {
      "text/plain": [
       "\u001b[36mnqubits: 4\u001b[39m\n",
       "\u001b[36m\u001b[1mput on (\u001b[22m\u001b[39m\u001b[36m\u001b[1m2\u001b[22m\u001b[39m\u001b[36m\u001b[1m, \u001b[22m\u001b[39m\u001b[36m\u001b[1m1\u001b[22m\u001b[39m\u001b[36m\u001b[1m)\u001b[22m\u001b[39m\n",
       "└─ SWAP gate"
      ]
     },
     "execution_count": 16,
     "metadata": {},
     "output_type": "execute_result"
    }
   ],
   "source": [
    "swap21 = swap(4,2,1)"
   ]
  },
  {
   "cell_type": "code",
   "execution_count": 22,
   "metadata": {},
   "outputs": [
    {
     "data": {
      "text/plain": [
       "8-element Array{Complex{Float64},1}:\n",
       "  0.0 + 0.0im\n",
       " -0.0 - 1.0im\n",
       "  0.0 + 0.0im\n",
       "  0.0 + 0.0im\n",
       "  0.0 + 0.0im\n",
       "  0.0 + 0.0im\n",
       "  0.0 + 0.0im\n",
       "  0.0 + 0.0im"
      ]
     },
     "execution_count": 22,
     "metadata": {},
     "output_type": "execute_result"
    }
   ],
   "source": [
    "statevec(reg |> swap21)"
   ]
  },
  {
   "cell_type": "markdown",
   "metadata": {
    "slideshow": {
     "slide_type": "slide"
    }
   },
   "source": [
    "# why Julia"
   ]
  },
  {
   "cell_type": "markdown",
   "metadata": {},
   "source": [
    "# **Performance**\n",
    "Solving two language problem\n",
    "\n",
    "* **ProjectQ**: C++ (pybind) python\n",
    "* **Quest**: Pure C\n",
    "* **Qulacs**: C++ (and) python"
   ]
  },
  {
   "cell_type": "code",
   "execution_count": 8,
   "metadata": {},
   "outputs": [],
   "source": [
    "# When does two language problem becomes a problem\n",
    "# 2-qubit gates\n",
    "using YaoBase\n",
    "using YaoArrayRegister\n",
    "function YaoBase.instruct!(\n",
    "        state::AbstractVecOrMat{T},\n",
    "        ::Val{:SWAP},\n",
    "        locs::Tuple{Int, Int}) where T\n",
    "\n",
    "    mask1 = bmask(locs[1])\n",
    "    mask2 = bmask(locs[2])\n",
    "    mask12 = mask1|mask2\n",
    "    for b in basis(state)\n",
    "        if b&mask1==0 && b&mask2==mask2\n",
    "            i = b+1\n",
    "            i_ = b ⊻ mask12 + 1\n",
    "            YaoArrayRegister.swaprows!(state, i, i_)\n",
    "        end\n",
    "    end\n",
    "    state .*= im\n",
    "    return state\n",
    "end"
   ]
  },
  {
   "cell_type": "code",
   "execution_count": 24,
   "metadata": {},
   "outputs": [
    {
     "data": {
      "text/plain": [
       "8-element Array{Complex{Float64},1}:\n",
       " 0.0 + 0.0im\n",
       " 0.0 + 1.0im\n",
       " 0.0 + 0.0im\n",
       " 0.0 + 0.0im\n",
       " 0.0 + 0.0im\n",
       " 0.0 + 0.0im\n",
       " 0.0 + 0.0im\n",
       " 0.0 + 0.0im"
      ]
     },
     "execution_count": 24,
     "metadata": {},
     "output_type": "execute_result"
    }
   ],
   "source": [
    "statevec(reg |> swap21)"
   ]
  },
  {
   "cell_type": "markdown",
   "metadata": {
    "slideshow": {
     "slide_type": "slide"
    }
   },
   "source": [
    "# Strong community\n",
    "* *JuliaGPU*"
   ]
  },
  {
   "cell_type": "markdown",
   "metadata": {},
   "source": [
    "An example of GPU swap gate"
   ]
  },
  {
   "cell_type": "code",
   "execution_count": null,
   "metadata": {},
   "outputs": [],
   "source": [
    "function instruct!(reg::ArrayReg{B,<:CuArrays}, ::Val{:SWAP}, locs::Tuple{Int,Int}) where {B}\n",
    "    b1, b2 = locs\n",
    "    state = statevec(reg)\n",
    "    mask1 = bmask(b1)\n",
    "    mask2 = bmask(b2)\n",
    "\n",
    "    # note: this kernel does not have the best performance,\n",
    "    # shared memory + `shfl_xor` will probably increase the memory access performance.\n",
    "    function kf(state, mask1, mask2)\n",
    "        inds = ((blockIdx().x-1) * blockDim().x + threadIdx().x,\n",
    "        (blockIdx().y-1) * blockDim().y + threadIdx().y)\n",
    "        b = inds[1]-1\n",
    "        c = inds[2]\n",
    "        c <= size(state, 2) || return nothing\n",
    "        if b&mask1==0 && b&mask2==mask2\n",
    "            i = b+1\n",
    "            i_ = b (mask1|mask2) + 1\n",
    "            temp = state[i, c]\n",
    "            state[i, c] = state[i_, c]\n",
    "            state[i_, c] = temp\n",
    "        end\n",
    "        nothing\n",
    "    end\n",
    "    X, Y = cudiv(size(state)...)\n",
    "    @cuda threads=X blocks=Y kf(state, mask1, mask2)\n",
    "    state\n",
    "end"
   ]
  },
  {
   "cell_type": "markdown",
   "metadata": {
    "slideshow": {
     "slide_type": "slide"
    }
   },
   "source": [
    "# No worry, we have CuYao"
   ]
  },
  {
   "cell_type": "code",
   "execution_count": null,
   "metadata": {},
   "outputs": [],
   "source": [
    "reg = rand_state(20)\n",
    "@benchmark reg |> swapgate"
   ]
  },
  {
   "cell_type": "code",
   "execution_count": null,
   "metadata": {},
   "outputs": [],
   "source": [
    "@benchmark cureg |> swapgate"
   ]
  },
  {
   "cell_type": "code",
   "execution_count": null,
   "metadata": {},
   "outputs": [],
   "source": [
    "# if we have batch"
   ]
  },
  {
   "cell_type": "markdown",
   "metadata": {
    "slideshow": {
     "slide_type": "slide"
    }
   },
   "source": [
    "# Automatic Differentiation"
   ]
  },
  {
   "cell_type": "markdown",
   "metadata": {},
   "source": []
  }
 ],
 "metadata": {
  "celltoolbar": "Slideshow",
  "kernelspec": {
   "display_name": "Julia 1.1.0",
   "language": "julia",
   "name": "julia-1.1"
  },
  "language_info": {
   "file_extension": ".jl",
   "mimetype": "application/julia",
   "name": "julia",
   "version": "1.1.0"
  }
 },
 "nbformat": 4,
 "nbformat_minor": 2
}
